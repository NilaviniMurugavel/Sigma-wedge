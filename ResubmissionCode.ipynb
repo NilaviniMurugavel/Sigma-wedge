{
 "cells": [
  {
   "cell_type": "code",
   "execution_count": 93,
   "id": "6b61bae0-8496-43d3-8d5d-1ab70bb4c7a8",
   "metadata": {
    "tags": []
   },
   "outputs": [],
   "source": [
    "from quantrocket.master import list_calendar_statuses"
   ]
  },
  {
   "cell_type": "code",
   "execution_count": 94,
   "id": "1bc9f8c1-4dde-4af6-954b-a735bcf00cbd",
   "metadata": {
    "tags": []
   },
   "outputs": [
    {
     "data": {
      "text/plain": [
       "{'XNYS': {'status': 'closed',\n",
       "  'since': '2024-03-15T16:00:00',\n",
       "  'until': '2024-03-18T09:30:00',\n",
       "  'timezone': 'America/New_York'}}"
      ]
     },
     "execution_count": 94,
     "metadata": {},
     "output_type": "execute_result"
    }
   ],
   "source": [
    "list_calendar_statuses(exchanges=\"XNYS\")"
   ]
  },
  {
   "cell_type": "code",
   "execution_count": 95,
   "id": "f3acd049-0074-4f48-8fb8-2b61d9925a56",
   "metadata": {
    "tags": []
   },
   "outputs": [
    {
     "data": {
      "text/plain": [
       "{'licensekey': 'bb7b........dd69', 'software_license': {}}"
      ]
     },
     "execution_count": 95,
     "metadata": {},
     "output_type": "execute_result"
    }
   ],
   "source": [
    "from quantrocket.license import set_license\n",
    "set_license(\"bb7b93d0-de17-11ee-94b2-29a04fa1dd69\")"
   ]
  },
  {
   "cell_type": "code",
   "execution_count": 96,
   "id": "d45df0a6-f40f-48e8-be4e-cfebefc7dc28",
   "metadata": {
    "tags": []
   },
   "outputs": [
    {
     "data": {
      "text/plain": [
       "{'status': 'deleted quantrocket.v2.history.usstock-free-1d.sqlite'}"
      ]
     },
     "execution_count": 96,
     "metadata": {},
     "output_type": "execute_result"
    }
   ],
   "source": [
    "from quantrocket.history import drop_db\n",
    "drop_db(\"usstock-free-1d\", confirm_by_typing_db_code_again=\"usstock-free-1d\")"
   ]
  },
  {
   "cell_type": "code",
   "execution_count": 97,
   "id": "a4785042-f730-4c00-b206-2933c51aebe3",
   "metadata": {
    "tags": []
   },
   "outputs": [
    {
     "data": {
      "text/plain": [
       "{'code': 'usstock-free', 'deleted': 1}"
      ]
     },
     "execution_count": 97,
     "metadata": {},
     "output_type": "execute_result"
    }
   ],
   "source": [
    "from quantrocket.master import delete_universe\n",
    "\n",
    "# Delete the universe named \"usstock-free\"\n",
    "delete_universe(\"usstock-free\")"
   ]
  },
  {
   "cell_type": "code",
   "execution_count": 98,
   "id": "13ef9099-a7ab-4cab-9a77-458eefc69e26",
   "metadata": {
    "tags": []
   },
   "outputs": [
    {
     "data": {
      "text/plain": [
       "{'status': 'successfully created quantrocket.v2.history.usstock-free-1d.sqlite'}"
      ]
     },
     "execution_count": 98,
     "metadata": {},
     "output_type": "execute_result"
    }
   ],
   "source": [
    "from quantrocket.history import create_usstock_db\n",
    "create_usstock_db(\"usstock-free-1d\", bar_size=\"1 day\", free=True)"
   ]
  },
  {
   "cell_type": "code",
   "execution_count": 99,
   "id": "78105f60-bf7b-4765-8319-90a970857cf2",
   "metadata": {
    "tags": []
   },
   "outputs": [
    {
     "data": {
      "text/plain": [
       "{'status': 'the historical data will be collected asynchronously'}"
      ]
     },
     "execution_count": 99,
     "metadata": {},
     "output_type": "execute_result"
    }
   ],
   "source": [
    "from quantrocket.history import collect_history\n",
    "collect_history(\"usstock-free-1d\")"
   ]
  },
  {
   "cell_type": "code",
   "execution_count": 100,
   "id": "cb13f17c-809a-48c7-8451-9724befe10b3",
   "metadata": {
    "tags": []
   },
   "outputs": [
    {
     "data": {
      "text/html": [
       "<div>\n",
       "<style scoped>\n",
       "    .dataframe tbody tr th:only-of-type {\n",
       "        vertical-align: middle;\n",
       "    }\n",
       "\n",
       "    .dataframe tbody tr th {\n",
       "        vertical-align: top;\n",
       "    }\n",
       "\n",
       "    .dataframe thead th {\n",
       "        text-align: right;\n",
       "    }\n",
       "</style>\n",
       "<table border=\"1\" class=\"dataframe\">\n",
       "  <thead>\n",
       "    <tr style=\"text-align: right;\">\n",
       "      <th></th>\n",
       "      <th>Symbol</th>\n",
       "      <th>Exchange</th>\n",
       "      <th>Country</th>\n",
       "      <th>Currency</th>\n",
       "      <th>SecType</th>\n",
       "      <th>Etf</th>\n",
       "      <th>Timezone</th>\n",
       "      <th>Name</th>\n",
       "      <th>PriceMagnifier</th>\n",
       "      <th>Multiplier</th>\n",
       "      <th>Delisted</th>\n",
       "      <th>DateDelisted</th>\n",
       "      <th>LastTradeDate</th>\n",
       "      <th>RolloverDate</th>\n",
       "    </tr>\n",
       "    <tr>\n",
       "      <th>Sid</th>\n",
       "      <th></th>\n",
       "      <th></th>\n",
       "      <th></th>\n",
       "      <th></th>\n",
       "      <th></th>\n",
       "      <th></th>\n",
       "      <th></th>\n",
       "      <th></th>\n",
       "      <th></th>\n",
       "      <th></th>\n",
       "      <th></th>\n",
       "      <th></th>\n",
       "      <th></th>\n",
       "      <th></th>\n",
       "    </tr>\n",
       "  </thead>\n",
       "  <tbody>\n",
       "    <tr>\n",
       "      <th>FIBBG000B9XRY4</th>\n",
       "      <td>AAPL</td>\n",
       "      <td>XNAS</td>\n",
       "      <td>US</td>\n",
       "      <td>USD</td>\n",
       "      <td>STK</td>\n",
       "      <td>False</td>\n",
       "      <td>America/New_York</td>\n",
       "      <td>APPLE INC</td>\n",
       "      <td>1</td>\n",
       "      <td>1</td>\n",
       "      <td>False</td>\n",
       "      <td>NaT</td>\n",
       "      <td>NaT</td>\n",
       "      <td>NaT</td>\n",
       "    </tr>\n",
       "  </tbody>\n",
       "</table>\n",
       "</div>"
      ],
      "text/plain": [
       "               Symbol Exchange Country Currency SecType    Etf  \\\n",
       "Sid                                                              \n",
       "FIBBG000B9XRY4   AAPL     XNAS      US      USD     STK  False   \n",
       "\n",
       "                        Timezone       Name  PriceMagnifier  Multiplier  \\\n",
       "Sid                                                                       \n",
       "FIBBG000B9XRY4  America/New_York  APPLE INC               1           1   \n",
       "\n",
       "                Delisted DateDelisted LastTradeDate RolloverDate  \n",
       "Sid                                                               \n",
       "FIBBG000B9XRY4     False          NaT           NaT          NaT  "
      ]
     },
     "execution_count": 100,
     "metadata": {},
     "output_type": "execute_result"
    }
   ],
   "source": [
    "from quantrocket.master import get_securities\n",
    "# by specifying sec_types='STK', we exclude ETFs, which are present in the sample data \n",
    "securities = get_securities(vendors=\"usstock\",symbols=['AAPL'],sec_types=\"STK\")\n",
    "securities.head()"
   ]
  },
  {
   "cell_type": "code",
   "execution_count": 101,
   "id": "61698762-147d-433b-a7dc-5ca4170f731f",
   "metadata": {
    "tags": []
   },
   "outputs": [
    {
     "name": "stdout",
     "output_type": "stream",
     "text": [
      "['FIBBG000B9XRY4']\n"
     ]
    }
   ],
   "source": [
    "print(securities.index.tolist())"
   ]
  },
  {
   "cell_type": "code",
   "execution_count": 102,
   "id": "41e840ac-d849-4d91-b8a3-dda24719c1a1",
   "metadata": {
    "tags": []
   },
   "outputs": [
    {
     "data": {
      "text/plain": [
       "{'code': 'usstock-free', 'provided': 1, 'inserted': 1, 'total_after_insert': 1}"
      ]
     },
     "execution_count": 102,
     "metadata": {},
     "output_type": "execute_result"
    }
   ],
   "source": [
    "from quantrocket.master import create_universe\n",
    "create_universe(\"usstock-free\", sids=securities.index.tolist())"
   ]
  },
  {
   "cell_type": "code",
   "execution_count": 103,
   "id": "c0336e35-06c3-44dc-beb5-fbb06398d0eb",
   "metadata": {
    "tags": []
   },
   "outputs": [
    {
     "name": "stdout",
     "output_type": "stream",
     "text": [
      "Contents of universe 'usstock-free':\n",
      "               Symbol Exchange Country Currency SecType    Etf  \\\n",
      "Sid                                                              \n",
      "FIBBG000B9XRY4   AAPL     XNAS      US      USD     STK  False   \n",
      "\n",
      "                        Timezone       Name  PriceMagnifier  Multiplier  \\\n",
      "Sid                                                                       \n",
      "FIBBG000B9XRY4  America/New_York  APPLE INC               1           1   \n",
      "\n",
      "                Delisted DateDelisted LastTradeDate RolloverDate  \n",
      "Sid                                                               \n",
      "FIBBG000B9XRY4     False          NaT           NaT          NaT  \n"
     ]
    }
   ],
   "source": [
    "from quantrocket.master import get_securities\n",
    "\n",
    "# Get the securities in the universe\n",
    "universe_securities = get_securities(universes=\"usstock-free\")\n",
    "\n",
    "# Print the contents of the universe\n",
    "print(\"Contents of universe 'usstock-free':\")\n",
    "print(universe_securities)"
   ]
  },
  {
   "cell_type": "code",
   "execution_count": 108,
   "id": "41a924c3-2573-4c50-848d-c76d6b59ac9f",
   "metadata": {
    "tags": []
   },
   "outputs": [
    {
     "data": {
      "text/html": [
       "<div>\n",
       "<style scoped>\n",
       "    .dataframe tbody tr th:only-of-type {\n",
       "        vertical-align: middle;\n",
       "    }\n",
       "\n",
       "    .dataframe tbody tr th {\n",
       "        vertical-align: top;\n",
       "    }\n",
       "\n",
       "    .dataframe thead th {\n",
       "        text-align: right;\n",
       "    }\n",
       "</style>\n",
       "<table border=\"1\" class=\"dataframe\">\n",
       "  <thead>\n",
       "    <tr style=\"text-align: right;\">\n",
       "      <th></th>\n",
       "      <th>Sid</th>\n",
       "      <th>FIBBG000B9XRY4</th>\n",
       "    </tr>\n",
       "    <tr>\n",
       "      <th>Field</th>\n",
       "      <th>Date</th>\n",
       "      <th></th>\n",
       "    </tr>\n",
       "  </thead>\n",
       "  <tbody>\n",
       "    <tr>\n",
       "      <th rowspan=\"5\" valign=\"top\">Close</th>\n",
       "      <th>2023-01-03</th>\n",
       "      <td>124.2163</td>\n",
       "    </tr>\n",
       "    <tr>\n",
       "      <th>2023-01-04</th>\n",
       "      <td>125.4975</td>\n",
       "    </tr>\n",
       "    <tr>\n",
       "      <th>2023-01-05</th>\n",
       "      <td>124.1666</td>\n",
       "    </tr>\n",
       "    <tr>\n",
       "      <th>2023-01-06</th>\n",
       "      <td>128.7352</td>\n",
       "    </tr>\n",
       "    <tr>\n",
       "      <th>2023-01-09</th>\n",
       "      <td>129.2616</td>\n",
       "    </tr>\n",
       "  </tbody>\n",
       "</table>\n",
       "</div>"
      ],
      "text/plain": [
       "Sid               FIBBG000B9XRY4\n",
       "Field Date                      \n",
       "Close 2023-01-03        124.2163\n",
       "      2023-01-04        125.4975\n",
       "      2023-01-05        124.1666\n",
       "      2023-01-06        128.7352\n",
       "      2023-01-09        129.2616"
      ]
     },
     "execution_count": 108,
     "metadata": {},
     "output_type": "execute_result"
    }
   ],
   "source": [
    "from quantrocket import get_prices\n",
    "prices = get_prices(\"usstock-free-1d\", universes=\"usstock-free\", start_date=\"01-01-2023\",end_date=\"31-12-2023\", fields=[\"Close\"])\n",
    "prices.head()"
   ]
  },
  {
   "cell_type": "code",
   "execution_count": 109,
   "id": "bdfd4758-ffe3-4efb-a330-0a48a4ddb2a3",
   "metadata": {
    "tags": []
   },
   "outputs": [],
   "source": [
    "prices.reset_index(inplace=True)"
   ]
  },
  {
   "cell_type": "code",
   "execution_count": 110,
   "id": "f6f9471d-d235-43d5-a0dc-6735bfabba28",
   "metadata": {
    "tags": []
   },
   "outputs": [],
   "source": [
    "prices.rename_axis(None, axis=1, inplace=True)"
   ]
  },
  {
   "cell_type": "code",
   "execution_count": 111,
   "id": "f8cf31c6-f847-4e89-831d-fe7cf08916fe",
   "metadata": {
    "tags": []
   },
   "outputs": [],
   "source": [
    "prices['Daily_Return_PCT'] = prices['FIBBG000B9XRY4'].pct_change()"
   ]
  },
  {
   "cell_type": "code",
   "execution_count": 112,
   "id": "070816fd-b0f9-41d2-8241-436a4330e82a",
   "metadata": {
    "tags": []
   },
   "outputs": [
    {
     "data": {
      "text/html": [
       "<div>\n",
       "<style scoped>\n",
       "    .dataframe tbody tr th:only-of-type {\n",
       "        vertical-align: middle;\n",
       "    }\n",
       "\n",
       "    .dataframe tbody tr th {\n",
       "        vertical-align: top;\n",
       "    }\n",
       "\n",
       "    .dataframe thead th {\n",
       "        text-align: right;\n",
       "    }\n",
       "</style>\n",
       "<table border=\"1\" class=\"dataframe\">\n",
       "  <thead>\n",
       "    <tr style=\"text-align: right;\">\n",
       "      <th></th>\n",
       "      <th>Field</th>\n",
       "      <th>Date</th>\n",
       "      <th>FIBBG000B9XRY4</th>\n",
       "      <th>Daily_Return_PCT</th>\n",
       "    </tr>\n",
       "  </thead>\n",
       "  <tbody>\n",
       "    <tr>\n",
       "      <th>245</th>\n",
       "      <td>Close</td>\n",
       "      <td>2023-12-22</td>\n",
       "      <td>193.3533</td>\n",
       "      <td>-0.005547</td>\n",
       "    </tr>\n",
       "    <tr>\n",
       "      <th>246</th>\n",
       "      <td>Close</td>\n",
       "      <td>2023-12-26</td>\n",
       "      <td>192.8040</td>\n",
       "      <td>-0.002841</td>\n",
       "    </tr>\n",
       "    <tr>\n",
       "      <th>247</th>\n",
       "      <td>Close</td>\n",
       "      <td>2023-12-27</td>\n",
       "      <td>192.9038</td>\n",
       "      <td>0.000518</td>\n",
       "    </tr>\n",
       "    <tr>\n",
       "      <th>248</th>\n",
       "      <td>Close</td>\n",
       "      <td>2023-12-28</td>\n",
       "      <td>193.3333</td>\n",
       "      <td>0.002226</td>\n",
       "    </tr>\n",
       "    <tr>\n",
       "      <th>249</th>\n",
       "      <td>Close</td>\n",
       "      <td>2023-12-29</td>\n",
       "      <td>192.2846</td>\n",
       "      <td>-0.005424</td>\n",
       "    </tr>\n",
       "  </tbody>\n",
       "</table>\n",
       "</div>"
      ],
      "text/plain": [
       "     Field       Date  FIBBG000B9XRY4  Daily_Return_PCT\n",
       "245  Close 2023-12-22        193.3533         -0.005547\n",
       "246  Close 2023-12-26        192.8040         -0.002841\n",
       "247  Close 2023-12-27        192.9038          0.000518\n",
       "248  Close 2023-12-28        193.3333          0.002226\n",
       "249  Close 2023-12-29        192.2846         -0.005424"
      ]
     },
     "execution_count": 112,
     "metadata": {},
     "output_type": "execute_result"
    }
   ],
   "source": [
    "prices.tail(5)"
   ]
  },
  {
   "cell_type": "code",
   "execution_count": 128,
   "id": "e1131c6f-5c26-4096-92ef-24adfbaf9d07",
   "metadata": {
    "tags": []
   },
   "outputs": [
    {
     "name": "stdout",
     "output_type": "stream",
     "text": [
      "['-1', '1', '-1', '1', '0', '0', '1', '0', '1', '0', '0', '0', '1', '1', '1', '0', '1', '1', '-1', '0', '0', '1', '1', '-1', '1', '-1', '0', '0', '1', '0', '1', '-1', '0', '-1', '0', '0', '-1', '0', '0', '-1', '0', '1', '1', '-1', '0', '-1', '-1', '1', '1', '0', '1', '0', '1', '1', '0', '0', '0', '-1', '0', '1', '0', '1', '0', '0', '-1', '0', '-1', '0', '0', '1', '0', '0', '0', '0', '0', '0', '0', '0', '0', '1', '0', '0', '0', '0', '0', '1', '0', '0', '1', '0', '0', '0', '0', '0', '1', '0', '0', '-1', '0', '0', '1', '1', '0', '1', '0', '0', '0', '0', '1', '0', '1', '0', '0', '1', '0', '0', '0', '1', '0', '0', '1', '0', '0', '1', '0', '0', '0', '0', '-1', '0', '0', '0', '0', '1', '0', '0', '-1', '0', '0', '0', '0', '0', '1', '0', '0', '-1', '0', '-1', '-1', '0', '0', '0', '0', '0', '-1', '0', '-1', '0', '0', '0', '1', '-1', '1', '0', '1', '1', '0', '0', '0', '-1', '-1', '0', '0', '-1', '-1', '0', '0', '1', '0', '-1', '0', '0', '0', '-1', '0', '0', '0', '1', '0', '0', '0', '1', '0', '0', '0', '0', '-1', '0', '0', '0', '0', '-1', '0', '0', '-1', '-1', '0', '1', '0', '1', '1', '0', '1', '1', '0', '0', '1', '0', '1', '0', '0', '0', '0', '0', '0', '0', '0', '0', '0', '0', '0', '0', '1', '0', '1', '0', '-1', '0', '1', '0', '0', '0', '0', '-1', '0', '0', '0', '0', '0', '0']\n"
     ]
    }
   ],
   "source": [
    "states=[]\n",
    "for i in prices['Daily_Return_PCT']:\n",
    "      if i >= 0.01:          \n",
    "            states.append('1')           \n",
    "      elif i > -0.01:            \n",
    "            states.append('0')           \n",
    "      else:             \n",
    "            states.append('-1')\n",
    "print(states)"
   ]
  },
  {
   "cell_type": "code",
   "execution_count": 129,
   "id": "22a7b645-c612-4ecb-93de-7f4799a9a6e2",
   "metadata": {
    "tags": []
   },
   "outputs": [
    {
     "name": "stdout",
     "output_type": "stream",
     "text": [
      "\n",
      "Probability of -1: 0.14\n",
      "Probability of 0: 0.63\n",
      "Probability of 1: 0.22\n",
      "\n",
      "\n",
      "The intial Transition Probability Matrix:\n",
      "[[0.13888889 0.72222222 0.13888889]\n",
      " [0.14649682 0.59872611 0.25477707]\n",
      " [0.125      0.67857143 0.19642857]]\n"
     ]
    }
   ],
   "source": [
    "import numpy as np\n",
    "probs = np.array(states)\n",
    "\n",
    "# Calculate probabilities\n",
    "unique_elements, counts = np.unique(probs, return_counts=True)\n",
    "probabilities = counts / len(probs)\n",
    "\n",
    "# Print probabilities\n",
    "print()\n",
    "for element, prob in zip(unique_elements, probabilities):\n",
    "    print(f\"Probability of {element}: {prob:.2f}\")\n",
    "\n",
    "\n",
    "states_list = ['-1', '0', '1']\n",
    "\n",
    "# Initialize transition count matrix\n",
    "transition_counts = np.zeros((len(states_list), len(states_list)))\n",
    "\n",
    "# Count transitions\n",
    "for i in range(len(states) - 1):\n",
    "    from_state = states_list.index(states[i])\n",
    "    to_state = states_list.index(states[i + 1])\n",
    "    transition_counts[from_state][to_state] += 1\n",
    "\n",
    "# Calculate transition probabilities\n",
    "initial_TPM = transition_counts / np.sum(transition_counts, axis=1, keepdims=True)\n",
    "\n",
    "print(\"\\n\\nThe intial Transition Probability Matrix:\")\n",
    "print(initial_TPM)\n",
    "TPM=initial_TPM"
   ]
  },
  {
   "cell_type": "markdown",
   "id": "57376307-2a87-45e5-8761-62f1ca094e0c",
   "metadata": {},
   "source": [
    "<b>CALCULATING PORTFOLIO VALUE IF THE DECISION WAS TO BUY ON ALL 250 DAYS<b>"
   ]
  },
  {
   "cell_type": "code",
   "execution_count": 125,
   "id": "08e2d7d9-a083-4f39-b985-98ff07351c1c",
   "metadata": {
    "tags": []
   },
   "outputs": [
    {
     "name": "stdout",
     "output_type": "stream",
     "text": [
      "PORTFOLIO VALUES IF WE DECIDE TO BUY ON EVERY DAY\n",
      "[0, 0, 0, 0, 0, 1, 1, 2, 2, 2, 2, 3, 3, 3, 3, 4, 4, 4, 4, 4, 5, 5, 5, 5, 5, 5, 5, 6, 6, 7, 7, 7, 6, 6, 6, 5, 5, 5, 4, 4, 5, 5, 5, 5, 4, 4, 4, 4, 4, 5, 5, 6, 6, 6, 6, 6, 5, 5, 6, 6, 7, 7, 7, 6, 6, 5, 5, 5, 6, 6, 6, 6, 6, 6, 6, 6, 6, 6, 7, 7, 7, 7, 7, 7, 8, 8, 8, 9, 9, 9, 9, 9, 9, 10, 10, 10, 9, 9, 9, 10, 10, 10, 11, 11, 11, 11, 11, 12, 12, 13, 13, 13, 14, 14, 14, 14, 15, 15, 15, 16, 16, 16, 17, 17, 17, 17, 17, 16, 16, 16, 16, 16, 17, 17, 17, 16, 16, 16, 16, 16, 16, 17, 17, 17, 16, 16, 15, 15, 15, 15, 15, 15, 15, 14, 14, 13, 13, 13, 13, 14, 14, 14, 14, 15, 15, 15, 15, 15, 14, 14, 14, 14, 13, 13, 13, 13, 14, 14, 13, 13, 13, 13, 12, 12, 12, 12, 13, 13, 13, 13, 14, 14, 14, 14, 14, 13, 13, 13, 13, 13, 12, 12, 12, 11, 11, 11, 12, 12, 13, 13, 13, 14, 14, 14, 14, 15, 15, 16, 16, 16, 16, 16, 16, 16, 16, 16, 16, 16, 16, 16, 16, 17, 17, 18, 18, 17, 17, 18, 18, 18, 18, 18, 17, 17, 17, 17, 17, 17, 17, 17]\n"
     ]
    }
   ],
   "source": [
    "# Initialize portfolio value\n",
    "V1 = 0\n",
    "\n",
    "# Initialize list to store portfolio values\n",
    "portfolio_values = []\n",
    "\n",
    "# Iterate over the states and calculate portfolio value accordingly\n",
    "for i in range(len(states) - 1):\n",
    "    if states[i+1] == '1' and states[i] == '0':\n",
    "        V1 += 1\n",
    "    elif states[i+1] == '-1' and states[i] == '0':\n",
    "        V1 -= 1\n",
    "    # Append the portfolio value after each iteration\n",
    "    portfolio_values.append(V1)\n",
    "\n",
    "# Append the final portfolio value after all iterations\n",
    "portfolio_values.append(V1)\n",
    "print(\"PORTFOLIO VALUES IF WE DECIDE TO BUY ON EVERY DAY\")\n",
    "print(portfolio_values)"
   ]
  },
  {
   "cell_type": "code",
   "execution_count": 126,
   "id": "bd7609ea-dbb0-4ac4-9f88-f2281e0edbc0",
   "metadata": {
    "tags": []
   },
   "outputs": [
    {
     "name": "stdout",
     "output_type": "stream",
     "text": [
      "Minimum value: 0\n",
      "Maximum value: 18\n",
      "Mean value: 10.964\n",
      "Standard deviation: 4.950424628251601\n"
     ]
    }
   ],
   "source": [
    "import pandas as pd\n",
    "import numpy as np\n",
    "min_value = np.min(portfolio_values)\n",
    "max_value = np.max(portfolio_values)\n",
    "mean_value = np.mean(portfolio_values)\n",
    "std_value = np.std(portfolio_values)\n",
    "\n",
    "# Print the results\n",
    "print(\"Minimum value:\", min_value)\n",
    "print(\"Maximum value:\", max_value)\n",
    "print(\"Mean value:\", mean_value)\n",
    "print(\"Standard deviation:\", std_value)"
   ]
  },
  {
   "cell_type": "markdown",
   "id": "7609af20-42e2-43e6-bcef-4102faba3c03",
   "metadata": {
    "tags": []
   },
   "source": [
    "<b>DYNAMIC PROGRAMMING APPROACH TO MAXIMIZE THE PORTFOLIO VALUE<b>"
   ]
  },
  {
   "cell_type": "code",
   "execution_count": 136,
   "id": "64945d9b-dc81-4978-9381-b6b4133a3d61",
   "metadata": {
    "tags": []
   },
   "outputs": [
    {
     "name": "stdout",
     "output_type": "stream",
     "text": [
      "Transition probability matrix\n",
      "[[0.13888889 0.72222222 0.13888889]\n",
      " [0.14649682 0.59872611 0.25477707]\n",
      " [0.125      0.67857143 0.19642857]]\n"
     ]
    }
   ],
   "source": [
    "#Dynamic Programming Approach    \n",
    "# Recurrence relation: PV = max(making a buying decision on d+1, deciding not to buy)\n",
    "print(\"Transition probability matrix\")\n",
    "print(TPM)\n",
    "buy_indices=[]\n",
    "V = 0\n",
    "states_list = ['-1', '0', '1']\n",
    "\n",
    "# memoization array to store calculated portfolio values\n",
    "memoization = np.zeros(250)\n",
    "\n",
    "# Function to calculate portfolio value based on current state and decision to buy or not\n",
    "def calculate_portfolio_value(current_state,previous_state,decision_to_buy,V):\n",
    "    if decision_to_buy:\n",
    "        \n",
    "        if current_state == '1' and previous_state == '0':\n",
    "            return V + 1\n",
    "        elif current_state == '-1' and previous_state == '0':\n",
    "            return V - 1\n",
    "        else:\n",
    "            return V\n",
    "    else:\n",
    "            return V\n",
    " \n",
    "for i in range(249):  # Assuming 250 data points\n",
    "    \n",
    "    current_state = states[i+1]\n",
    "    previous_state=states[i]      \n",
    "    V=memoization[i]\n",
    "    decision_to_buy = False       \n",
    "    \n",
    "    if TPM[states_list.index(current_state)][2] > TPM[states_list.index(current_state)][0]:     \n",
    "            decision_to_buy = True\n",
    "          \n",
    "    \n",
    "    # Calculate portfolio value based on current state and decision to buy\n",
    "    V = calculate_portfolio_value(current_state,previous_state, decision_to_buy,V)\n",
    "    \n",
    "   \n",
    "    # Update memoization array\n",
    "    if memoization[i]>=V:\n",
    "        memoization[i + 1]=memoization[i]\n",
    "    else:\n",
    "        memoization[i + 1] = V\n",
    "        buy_indices.append(i+1)"
   ]
  },
  {
   "cell_type": "code",
   "execution_count": 158,
   "id": "fad69650-e0ac-4316-b5cd-c0b89db8f3b3",
   "metadata": {
    "tags": []
   },
   "outputs": [
    {
     "name": "stdout",
     "output_type": "stream",
     "text": [
      "[ 0.  0.  0.  0.  0.  0.  1.  1.  2.  2.  2.  2.  3.  3.  3.  3.  4.  4.\n",
      "  4.  4.  4.  5.  5.  5.  5.  5.  5.  5.  6.  6.  7.  7.  7.  7.  7.  7.\n",
      "  7.  7.  7.  7.  7.  8.  8.  8.  8.  8.  8.  8.  8.  8.  9.  9. 10. 10.\n",
      " 10. 10. 10. 10. 10. 11. 11. 12. 12. 12. 12. 12. 12. 12. 12. 13. 13. 13.\n",
      " 13. 13. 13. 13. 13. 13. 13. 14. 14. 14. 14. 14. 14. 15. 15. 15. 16. 16.\n",
      " 16. 16. 16. 16. 17. 17. 17. 17. 17. 17. 18. 18. 18. 19. 19. 19. 19. 19.\n",
      " 20. 20. 21. 21. 21. 22. 22. 22. 22. 23. 23. 23. 24. 24. 24. 25. 25. 25.\n",
      " 25. 25. 25. 25. 25. 25. 25. 26. 26. 26. 26. 26. 26. 26. 26. 26. 27. 27.\n",
      " 27. 27. 27. 27. 27. 27. 27. 27. 27. 27. 27. 27. 27. 27. 27. 27. 28. 28.\n",
      " 28. 28. 29. 29. 29. 29. 29. 29. 29. 29. 29. 29. 29. 29. 29. 30. 30. 30.\n",
      " 30. 30. 30. 30. 30. 30. 30. 31. 31. 31. 31. 32. 32. 32. 32. 32. 32. 32.\n",
      " 32. 32. 32. 32. 32. 32. 32. 32. 32. 33. 33. 34. 34. 34. 35. 35. 35. 35.\n",
      " 36. 36. 37. 37. 37. 37. 37. 37. 37. 37. 37. 37. 37. 37. 37. 37. 38. 38.\n",
      " 39. 39. 39. 39. 40. 40. 40. 40. 40. 40. 40. 40. 40. 40. 40. 40.]\n",
      "\n",
      "Minimum value: 0.0\n",
      "Maximum value: 40.0\n",
      "Mean value: 21.548\n",
      "Standard deviation: 11.63854355149303\n"
     ]
    }
   ],
   "source": [
    "print(memoization)\n",
    "min_value = np.min(memoization)\n",
    "max_value = np.max(memoization)\n",
    "mean_value = np.mean(memoization)\n",
    "std_value = np.std(memoization)\n",
    "\n",
    "# Print the results\n",
    "print(\"\\nMinimum value:\", min_value)\n",
    "print(\"Maximum value:\", max_value)\n",
    "print(\"Mean value:\", mean_value)\n",
    "print(\"Standard deviation:\", std_value)"
   ]
  },
  {
   "cell_type": "code",
   "execution_count": 160,
   "id": "886a90b3-99fa-42f7-8db0-cad44c1f2107",
   "metadata": {
    "tags": []
   },
   "outputs": [
    {
     "name": "stdout",
     "output_type": "stream",
     "text": [
      "\n",
      "BUY INDICES\n",
      "\n",
      "[6, 8, 12, 16, 21, 28, 30, 41, 50, 52, 59, 61, 69, 79, 85, 88, 94, 100, 103, 108, 110, 113, 117, 120, 123, 133, 142, 160, 164, 177, 187, 191, 207, 209, 212, 216, 218, 232, 234, 238]\n"
     ]
    }
   ],
   "source": [
    "print(\"\\nBUY INDICES\\n\")\n",
    "print(buy_indices)"
   ]
  },
  {
   "cell_type": "code",
   "execution_count": 142,
   "id": "75810158-a036-49de-aca5-52e83c030bca",
   "metadata": {
    "tags": []
   },
   "outputs": [],
   "source": [
    "Dates = prices.iloc[list(buy_indices)]"
   ]
  },
  {
   "cell_type": "code",
   "execution_count": 150,
   "id": "b4da2da5-7eca-45ae-80d8-65c7f61366d3",
   "metadata": {
    "tags": []
   },
   "outputs": [
    {
     "name": "stdout",
     "output_type": "stream",
     "text": [
      "\n",
      "DAYS AT WHICH DECISION TO BUY COULD BE MADE\n",
      "\n",
      "     Field       Date  FIBBG000B9XRY4  Daily_Return_PCT\n",
      "6    Close 2023-01-11        132.5788          0.021112\n",
      "8    Close 2023-01-13        133.8402          0.010119\n",
      "12   Close 2023-01-20        136.9289          0.019220\n",
      "16   Close 2023-01-26        142.9774          0.014804\n",
      "21   Close 2023-02-02        149.7905          0.037062\n",
      "28   Close 2023-02-13        153.0332          0.018807\n",
      "30   Close 2023-02-15        154.5053          0.013903\n",
      "41   Close 2023-03-03        150.2281          0.035090\n",
      "50   Close 2023-03-16        155.0225          0.018694\n",
      "52   Close 2023-03-20        156.5643          0.015484\n",
      "59   Close 2023-03-29        159.9164          0.019790\n",
      "61   Close 2023-03-31        164.0245          0.015644\n",
      "69   Close 2023-04-13        164.6810          0.034104\n",
      "79   Close 2023-04-27        167.5158          0.028395\n",
      "85   Close 2023-05-05        172.6485          0.046927\n",
      "88   Close 2023-05-10        172.6335          0.010392\n",
      "94   Close 2023-05-18        174.3614          0.013666\n",
      "100  Close 2023-05-26        174.7399          0.014105\n",
      "103  Close 2023-06-01        179.3816          0.016022\n",
      "108  Close 2023-06-08        179.8597          0.015465\n",
      "110  Close 2023-06-12        183.0671          0.015639\n",
      "113  Close 2023-06-15        185.2783          0.011199\n",
      "117  Close 2023-06-22        186.2644          0.016525\n",
      "120  Close 2023-06-27        187.3203          0.015060\n",
      "123  Close 2023-06-30        193.2070          0.023103\n",
      "133  Close 2023-07-17        193.2269          0.017305\n",
      "142  Close 2023-07-28        195.0597          0.013508\n",
      "160  Close 2023-08-23        180.6512          0.021949\n",
      "164  Close 2023-08-29        183.6434          0.021810\n",
      "177  Close 2023-09-18        177.5093          0.016913\n",
      "187  Close 2023-10-02        173.3003          0.014836\n",
      "191  Close 2023-10-06        177.0306          0.014750\n",
      "207  Close 2023-10-30        169.8492          0.012305\n",
      "209  Close 2023-11-01        173.5197          0.018739\n",
      "212  Close 2023-11-06        178.7661          0.014606\n",
      "216  Close 2023-11-10        186.1624          0.023220\n",
      "218  Close 2023-11-14        187.2011          0.014286\n",
      "232  Close 2023-12-05        193.1735          0.021063\n",
      "234  Close 2023-12-07        194.0224          0.010139\n",
      "238  Close 2023-12-13        197.7077          0.016691\n",
      "\n",
      "\n",
      "\n"
     ]
    }
   ],
   "source": [
    "print(\"\\nDAYS AT WHICH DECISION TO BUY COULD BE MADE\\n\")\n",
    "print(Dates)\n",
    "print(\"\\n\\n\")"
   ]
  },
  {
   "cell_type": "markdown",
   "id": "37511ffd-5f39-440c-9115-97cc0b445883",
   "metadata": {},
   "source": [
    "\n",
    "**In the above dynamic programming approach:**\n",
    "\n",
    "- **Initialization:** Initialize the portfolio value \\( V \\) to 0 and create a memoization NumPy array of zeroes to store calculated portfolio values.\n",
    "\n",
    "- **Portfolio Value Calculation:** Calculate the portfolio value at each step based on the current state and the decision to buy or not, which is determined using the transition probability matrix.\n",
    "\n",
    "- **Decision Making:** Determine whether to buy the stock on the next day based on the transition probability matrix. If the probability of transitioning to a bull state is higher than that of transitioning to a bear state, a decision to buy is made.\n",
    "\n",
    "- **Memoization:** Store the calculated portfolio values in the memoization array, ensuring that only decisions resulting in the maximum value are retained.\n",
    "\n",
    "- **Buy Indices:** Keep track of the indices where buying decisions are made to provide insights into the timing of portfolio adjustments.\n"
   ]
  },
  {
   "cell_type": "code",
   "execution_count": 154,
   "id": "701f6efc-03d3-47b2-82a2-7ad5936b3ea1",
   "metadata": {
    "tags": []
   },
   "outputs": [
    {
     "data": {
      "image/png": "[encoded data removed]",
      "text/plain": [
       "<Figure size 720x432 with 1 Axes>"
      ]
     },
     "metadata": {},
     "output_type": "display_data"
    }
   ],
   "source": [
    "import matplotlib.pyplot as plt\n",
    "\n",
    "# Assuming 'dates' is a column in the 'prices' DataFrame containing date information\n",
    "X = prices['Date']\n",
    "\n",
    "# Define the figure and axes\n",
    "plt.figure(figsize=(10, 6))\n",
    "\n",
    "# Plot memoization values against dates\n",
    "plt.plot(X, memoization, marker='o', linestyle='-')\n",
    "\n",
    "# Set labels and title\n",
    "plt.xlabel('Date')\n",
    "plt.ylabel('Portfolio Value')\n",
    "plt.title('Portfolio Value after optimization in the year 2023')\n",
    "\n",
    "# Rotate x-axis labels for better readability (optional)\n",
    "plt.xticks(rotation=45)\n",
    "\n",
    "# Show grid\n",
    "plt.grid(True)\n",
    "\n",
    "# Show the plot\n",
    "plt.tight_layout()\n",
    "plt.show()\n"
   ]
  },
  {
   "cell_type": "code",
   "execution_count": 156,
   "id": "4296e3cc-7afb-4a5f-bb2c-45367581686e",
   "metadata": {
    "tags": []
   },
   "outputs": [
    {
     "name": "stdout",
     "output_type": "stream",
     "text": [
      "\n",
      "\n",
      "Comparison distribution of Portfolio values before and after optimization\n",
      "\n",
      "\n"
     ]
    },
    {
     "data": {
      "image/png": "[encoded data removed]",
      "text/plain": [
       "<Figure size 864x432 with 2 Axes>"
      ]
     },
     "metadata": {},
     "output_type": "display_data"
    }
   ],
   "source": [
    "import matplotlib.pyplot as plt\n",
    "\n",
    "print(\"\\n\\nComparison distribution of Portfolio values before and after optimization\\n\\n\")\n",
    "unique_values1, counts = np.unique(portfolio_values, return_counts=True)\n",
    "total_observations1 = len(portfolio_values)\n",
    "probabilities1 = counts / total_observations\n",
    "\n",
    " \n",
    "\n",
    "unique_values2, counts = np.unique(memoization, return_counts=True)\n",
    "total_observations2 = len(memoization)\n",
    "probabilities2 = counts / total_observations\n",
    "\n",
    " \n",
    "fig, axs = plt.subplots(1, 2, figsize=(12, 6))\n",
    "axs[0].bar(unique_values1, probabilities1)\n",
    "axs[0].set_xlabel('Portfolio Value')\n",
    "axs[0].set_ylabel('Probability')\n",
    "axs[0].set_title('Portfolio Values')\n",
    "\n",
    "axs[1].bar(unique_values2, probabilities2)\n",
    "axs[1].set_xlabel('Portfolio Value')\n",
    "axs[1].set_ylabel('Probability')\n",
    "axs[1].set_title('Portfolio Values after optimization')\n",
    " \n",
    "plt.tight_layout()\n",
    "plt.show()\n"
   ]
  }
 ],
 "metadata": {
  "kernelspec": {
   "display_name": "Python 3.9",
   "language": "python",
   "name": "python3"
  },
  "language_info": {
   "codemirror_mode": {
    "name": "ipython",
    "version": 3
   },
   "file_extension": ".py",
   "mimetype": "text/x-python",
   "name": "python",
   "nbconvert_exporter": "python",
   "pygments_lexer": "ipython3",
   "version": "3.9.12"
  }
 },
 "nbformat": 4,
 "nbformat_minor": 5
}
