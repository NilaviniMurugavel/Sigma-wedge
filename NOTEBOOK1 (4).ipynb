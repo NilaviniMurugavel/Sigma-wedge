{
 "cells": [
  {
   "cell_type": "code",
   "execution_count": 15,
   "id": "dc02c093-7786-4297-993d-b9ed47837828",
   "metadata": {
    "tags": []
   },
   "outputs": [],
   "source": [
    "from quantrocket.master import list_calendar_statuses"
   ]
  },
  {
   "cell_type": "code",
   "execution_count": 16,
   "id": "f6833562-a443-4bbc-b6b8-263e9a0e3d89",
   "metadata": {
    "tags": []
   },
   "outputs": [
    {
     "data": {
      "text/plain": [
       "{'XNYS': {'status': 'closed',\n",
       "  'since': '2024-03-11T16:00:00',\n",
       "  'until': '2024-03-12T09:30:00',\n",
       "  'timezone': 'America/New_York'}}"
      ]
     },
     "execution_count": 16,
     "metadata": {},
     "output_type": "execute_result"
    }
   ],
   "source": [
    "list_calendar_statuses(exchanges=\"XNYS\")"
   ]
  },
  {
   "cell_type": "code",
   "execution_count": 17,
   "id": "690433f9-2b0b-474f-aaf9-fc92cb29a9d1",
   "metadata": {
    "tags": []
   },
   "outputs": [
    {
     "data": {
      "text/plain": [
       "{'licensekey': 'bb7b........dd69', 'software_license': {}}"
      ]
     },
     "execution_count": 17,
     "metadata": {},
     "output_type": "execute_result"
    }
   ],
   "source": [
    "from quantrocket.license import set_license\n",
    "set_license(\"bb7b93d0-de17-11ee-94b2-29a04fa1dd69\")"
   ]
  },
  {
   "cell_type": "code",
   "execution_count": 18,
   "id": "d0b2d149-6aa5-480f-a3c8-5882d7ffbafc",
   "metadata": {
    "tags": []
   },
   "outputs": [
    {
     "data": {
      "text/plain": [
       "{'status': 'successfully created quantrocket.v2.history.usstock-free-1d.sqlite'}"
      ]
     },
     "execution_count": 18,
     "metadata": {},
     "output_type": "execute_result"
    }
   ],
   "source": [
    "from quantrocket.history import create_usstock_db\n",
    "create_usstock_db(\"usstock-free-1d\", bar_size=\"1 day\", free=True)"
   ]
  },
  {
   "cell_type": "code",
   "execution_count": 19,
   "id": "191b5149-110b-4229-beb1-79a75380c31b",
   "metadata": {
    "tags": []
   },
   "outputs": [
    {
     "data": {
      "text/plain": [
       "{'status': 'the historical data will be collected asynchronously'}"
      ]
     },
     "execution_count": 19,
     "metadata": {},
     "output_type": "execute_result"
    }
   ],
   "source": [
    "from quantrocket.history import collect_history\n",
    "collect_history(\"usstock-free-1d\")"
   ]
  },
  {
   "cell_type": "code",
   "execution_count": 20,
   "id": "78e9e8b2-8b89-475f-8072-ee3b241112df",
   "metadata": {
    "tags": []
   },
   "outputs": [
    {
     "data": {
      "text/html": [
       "<div>\n",
       "<style scoped>\n",
       "    .dataframe tbody tr th:only-of-type {\n",
       "        vertical-align: middle;\n",
       "    }\n",
       "\n",
       "    .dataframe tbody tr th {\n",
       "        vertical-align: top;\n",
       "    }\n",
       "\n",
       "    .dataframe thead th {\n",
       "        text-align: right;\n",
       "    }\n",
       "</style>\n",
       "<table border=\"1\" class=\"dataframe\">\n",
       "  <thead>\n",
       "    <tr style=\"text-align: right;\">\n",
       "      <th></th>\n",
       "      <th>Symbol</th>\n",
       "      <th>Exchange</th>\n",
       "      <th>Country</th>\n",
       "      <th>Currency</th>\n",
       "      <th>SecType</th>\n",
       "      <th>Etf</th>\n",
       "      <th>Timezone</th>\n",
       "      <th>Name</th>\n",
       "      <th>PriceMagnifier</th>\n",
       "      <th>Multiplier</th>\n",
       "      <th>Delisted</th>\n",
       "      <th>DateDelisted</th>\n",
       "      <th>LastTradeDate</th>\n",
       "      <th>RolloverDate</th>\n",
       "    </tr>\n",
       "    <tr>\n",
       "      <th>Sid</th>\n",
       "      <th></th>\n",
       "      <th></th>\n",
       "      <th></th>\n",
       "      <th></th>\n",
       "      <th></th>\n",
       "      <th></th>\n",
       "      <th></th>\n",
       "      <th></th>\n",
       "      <th></th>\n",
       "      <th></th>\n",
       "      <th></th>\n",
       "      <th></th>\n",
       "      <th></th>\n",
       "      <th></th>\n",
       "    </tr>\n",
       "  </thead>\n",
       "  <tbody>\n",
       "    <tr>\n",
       "      <th>FIBBG000B9XRY4</th>\n",
       "      <td>AAPL</td>\n",
       "      <td>XNAS</td>\n",
       "      <td>US</td>\n",
       "      <td>USD</td>\n",
       "      <td>STK</td>\n",
       "      <td>False</td>\n",
       "      <td>America/New_York</td>\n",
       "      <td>APPLE INC</td>\n",
       "      <td>1</td>\n",
       "      <td>1</td>\n",
       "      <td>False</td>\n",
       "      <td>NaT</td>\n",
       "      <td>NaT</td>\n",
       "      <td>NaT</td>\n",
       "    </tr>\n",
       "  </tbody>\n",
       "</table>\n",
       "</div>"
      ],
      "text/plain": [
       "               Symbol Exchange Country Currency SecType    Etf  \\\n",
       "Sid                                                              \n",
       "FIBBG000B9XRY4   AAPL     XNAS      US      USD     STK  False   \n",
       "\n",
       "                        Timezone       Name  PriceMagnifier  Multiplier  \\\n",
       "Sid                                                                       \n",
       "FIBBG000B9XRY4  America/New_York  APPLE INC               1           1   \n",
       "\n",
       "                Delisted DateDelisted LastTradeDate RolloverDate  \n",
       "Sid                                                               \n",
       "FIBBG000B9XRY4     False          NaT           NaT          NaT  "
      ]
     },
     "execution_count": 20,
     "metadata": {},
     "output_type": "execute_result"
    }
   ],
   "source": [
    "from quantrocket.master import get_securities\n",
    "# by specifying sec_types='STK', we exclude ETFs, which are present in the sample data \n",
    "securities = get_securities(vendors=\"usstock\",symbols=['AAPL'],sec_types=\"STK\")\n",
    "securities.head()"
   ]
  },
  {
   "cell_type": "code",
   "execution_count": 21,
   "id": "87368dab-739a-4279-8ca5-e69c27bbeb26",
   "metadata": {
    "tags": []
   },
   "outputs": [
    {
     "name": "stdout",
     "output_type": "stream",
     "text": [
      "['FIBBG000B9XRY4']\n"
     ]
    }
   ],
   "source": [
    "print(securities.index.tolist())"
   ]
  },
  {
   "cell_type": "code",
   "execution_count": 24,
   "id": "9074c67d-346d-448d-b988-a972565fe68d",
   "metadata": {
    "tags": []
   },
   "outputs": [
    {
     "data": {
      "text/plain": [
       "{'code': 'usstock-free', 'provided': 1, 'inserted': 1, 'total_after_insert': 1}"
      ]
     },
     "execution_count": 24,
     "metadata": {},
     "output_type": "execute_result"
    }
   ],
   "source": [
    "from quantrocket.master import create_universe\n",
    "create_universe(\"usstock-free\", sids=securities.index.tolist())"
   ]
  },
  {
   "cell_type": "code",
   "execution_count": 25,
   "id": "f26440b3-9aae-4c2e-a857-8a6ca6bf2687",
   "metadata": {
    "tags": []
   },
   "outputs": [
    {
     "name": "stdout",
     "output_type": "stream",
     "text": [
      "Contents of universe 'usstock-free':\n",
      "               Symbol Exchange Country Currency SecType    Etf  \\\n",
      "Sid                                                              \n",
      "FIBBG000B9XRY4   AAPL     XNAS      US      USD     STK  False   \n",
      "\n",
      "                        Timezone       Name  PriceMagnifier  Multiplier  \\\n",
      "Sid                                                                       \n",
      "FIBBG000B9XRY4  America/New_York  APPLE INC               1           1   \n",
      "\n",
      "                Delisted DateDelisted LastTradeDate RolloverDate  \n",
      "Sid                                                               \n",
      "FIBBG000B9XRY4     False          NaT           NaT          NaT  \n"
     ]
    }
   ],
   "source": [
    "from quantrocket.master import get_securities\n",
    "\n",
    "# Get the securities in the universe\n",
    "universe_securities = get_securities(universes=\"usstock-free\")\n",
    "\n",
    "# Print the contents of the universe\n",
    "print(\"Contents of universe 'usstock-free':\")\n",
    "print(universe_securities)\n"
   ]
  },
  {
   "cell_type": "code",
   "execution_count": 26,
   "id": "840591ef-6568-4581-8b1f-d5086099d8a4",
   "metadata": {
    "tags": []
   },
   "outputs": [
    {
     "data": {
      "text/html": [
       "<div>\n",
       "<style scoped>\n",
       "    .dataframe tbody tr th:only-of-type {\n",
       "        vertical-align: middle;\n",
       "    }\n",
       "\n",
       "    .dataframe tbody tr th {\n",
       "        vertical-align: top;\n",
       "    }\n",
       "\n",
       "    .dataframe thead th {\n",
       "        text-align: right;\n",
       "    }\n",
       "</style>\n",
       "<table border=\"1\" class=\"dataframe\">\n",
       "  <thead>\n",
       "    <tr style=\"text-align: right;\">\n",
       "      <th></th>\n",
       "      <th>Sid</th>\n",
       "      <th>FIBBG000B9XRY4</th>\n",
       "    </tr>\n",
       "    <tr>\n",
       "      <th>Field</th>\n",
       "      <th>Date</th>\n",
       "      <th></th>\n",
       "    </tr>\n",
       "  </thead>\n",
       "  <tbody>\n",
       "    <tr>\n",
       "      <th rowspan=\"5\" valign=\"top\">Close</th>\n",
       "      <th>2023-01-03</th>\n",
       "      <td>124.2163</td>\n",
       "    </tr>\n",
       "    <tr>\n",
       "      <th>2023-01-04</th>\n",
       "      <td>125.4975</td>\n",
       "    </tr>\n",
       "    <tr>\n",
       "      <th>2023-01-05</th>\n",
       "      <td>124.1666</td>\n",
       "    </tr>\n",
       "    <tr>\n",
       "      <th>2023-01-06</th>\n",
       "      <td>128.7352</td>\n",
       "    </tr>\n",
       "    <tr>\n",
       "      <th>2023-01-09</th>\n",
       "      <td>129.2616</td>\n",
       "    </tr>\n",
       "  </tbody>\n",
       "</table>\n",
       "</div>"
      ],
      "text/plain": [
       "Sid               FIBBG000B9XRY4\n",
       "Field Date                      \n",
       "Close 2023-01-03        124.2163\n",
       "      2023-01-04        125.4975\n",
       "      2023-01-05        124.1666\n",
       "      2023-01-06        128.7352\n",
       "      2023-01-09        129.2616"
      ]
     },
     "execution_count": 26,
     "metadata": {},
     "output_type": "execute_result"
    }
   ],
   "source": [
    "from quantrocket import get_prices\n",
    "prices = get_prices(\"usstock-free-1d\", universes=\"usstock-free\", start_date=\"01-01-2023\",end_date=\"31-12-2023\", fields=[\"Close\"])\n",
    "prices.head()"
   ]
  },
  {
   "cell_type": "code",
   "execution_count": 13,
   "id": "ce6c9151-c932-4c4f-b132-340de6f23de3",
   "metadata": {
    "tags": []
   },
   "outputs": [
    {
     "data": {
      "text/plain": [
       "{'status': 'deleted quantrocket.v2.history.usstock-free-1d.sqlite'}"
      ]
     },
     "execution_count": 13,
     "metadata": {},
     "output_type": "execute_result"
    }
   ],
   "source": [
    "#from quantrocket.history import drop_db\n",
    "#drop_db(\"usstock-free-1d\", confirm_by_typing_db_code_again=\"usstock-free-1d\")"
   ]
  },
  {
   "cell_type": "code",
   "execution_count": 23,
   "id": "a644bc3f-5bd9-4ab4-9ec2-b635ca4e7e50",
   "metadata": {
    "tags": []
   },
   "outputs": [
    {
     "data": {
      "text/plain": [
       "{'code': 'usstock-free', 'deleted': 1}"
      ]
     },
     "execution_count": 23,
     "metadata": {},
     "output_type": "execute_result"
    }
   ],
   "source": [
    "#from quantrocket.master import delete_universe\n",
    "\n",
    "# Delete the universe named \"usstock-free\"\n",
    "#delete_universe(\"usstock-free\")"
   ]
  },
  {
   "cell_type": "code",
   "execution_count": 32,
   "id": "a1196655-b1b9-4d60-9d49-067f6f71dc02",
   "metadata": {
    "tags": []
   },
   "outputs": [
    {
     "data": {
      "text/html": [
       "<div>\n",
       "<style scoped>\n",
       "    .dataframe tbody tr th:only-of-type {\n",
       "        vertical-align: middle;\n",
       "    }\n",
       "\n",
       "    .dataframe tbody tr th {\n",
       "        vertical-align: top;\n",
       "    }\n",
       "\n",
       "    .dataframe thead th {\n",
       "        text-align: right;\n",
       "    }\n",
       "</style>\n",
       "<table border=\"1\" class=\"dataframe\">\n",
       "  <thead>\n",
       "    <tr style=\"text-align: right;\">\n",
       "      <th></th>\n",
       "      <th>Symbol</th>\n",
       "      <th>Exchange</th>\n",
       "      <th>Country</th>\n",
       "      <th>Currency</th>\n",
       "      <th>SecType</th>\n",
       "      <th>Etf</th>\n",
       "      <th>Timezone</th>\n",
       "      <th>Name</th>\n",
       "      <th>PriceMagnifier</th>\n",
       "      <th>Multiplier</th>\n",
       "      <th>Delisted</th>\n",
       "      <th>DateDelisted</th>\n",
       "      <th>LastTradeDate</th>\n",
       "      <th>RolloverDate</th>\n",
       "    </tr>\n",
       "    <tr>\n",
       "      <th>Sid</th>\n",
       "      <th></th>\n",
       "      <th></th>\n",
       "      <th></th>\n",
       "      <th></th>\n",
       "      <th></th>\n",
       "      <th></th>\n",
       "      <th></th>\n",
       "      <th></th>\n",
       "      <th></th>\n",
       "      <th></th>\n",
       "      <th></th>\n",
       "      <th></th>\n",
       "      <th></th>\n",
       "      <th></th>\n",
       "    </tr>\n",
       "  </thead>\n",
       "  <tbody>\n",
       "    <tr>\n",
       "      <th>FIBBG000B9XRY4</th>\n",
       "      <td>AAPL</td>\n",
       "      <td>XNAS</td>\n",
       "      <td>US</td>\n",
       "      <td>USD</td>\n",
       "      <td>STK</td>\n",
       "      <td>False</td>\n",
       "      <td>America/New_York</td>\n",
       "      <td>APPLE INC</td>\n",
       "      <td>1</td>\n",
       "      <td>1</td>\n",
       "      <td>False</td>\n",
       "      <td>NaT</td>\n",
       "      <td>NaT</td>\n",
       "      <td>NaT</td>\n",
       "    </tr>\n",
       "    <tr>\n",
       "      <th>FIBBG000BFWKC0</th>\n",
       "      <td>MON</td>\n",
       "      <td>XNYS</td>\n",
       "      <td>US</td>\n",
       "      <td>USD</td>\n",
       "      <td>STK</td>\n",
       "      <td>False</td>\n",
       "      <td>America/New_York</td>\n",
       "      <td>MONSANTO CO</td>\n",
       "      <td>1</td>\n",
       "      <td>1</td>\n",
       "      <td>True</td>\n",
       "      <td>2018-06-06</td>\n",
       "      <td>NaT</td>\n",
       "      <td>NaT</td>\n",
       "    </tr>\n",
       "    <tr>\n",
       "      <th>FIBBG000BKZB36</th>\n",
       "      <td>HD</td>\n",
       "      <td>XNYS</td>\n",
       "      <td>US</td>\n",
       "      <td>USD</td>\n",
       "      <td>STK</td>\n",
       "      <td>False</td>\n",
       "      <td>America/New_York</td>\n",
       "      <td>HOME DEPOT INC</td>\n",
       "      <td>1</td>\n",
       "      <td>1</td>\n",
       "      <td>False</td>\n",
       "      <td>NaT</td>\n",
       "      <td>NaT</td>\n",
       "      <td>NaT</td>\n",
       "    </tr>\n",
       "    <tr>\n",
       "      <th>FIBBG000BMHYD1</th>\n",
       "      <td>JNJ</td>\n",
       "      <td>XNYS</td>\n",
       "      <td>US</td>\n",
       "      <td>USD</td>\n",
       "      <td>STK</td>\n",
       "      <td>False</td>\n",
       "      <td>America/New_York</td>\n",
       "      <td>JOHNSON &amp; JOHNSON</td>\n",
       "      <td>1</td>\n",
       "      <td>1</td>\n",
       "      <td>False</td>\n",
       "      <td>NaT</td>\n",
       "      <td>NaT</td>\n",
       "      <td>NaT</td>\n",
       "    </tr>\n",
       "    <tr>\n",
       "      <th>FIBBG000BPH459</th>\n",
       "      <td>MSFT</td>\n",
       "      <td>XNAS</td>\n",
       "      <td>US</td>\n",
       "      <td>USD</td>\n",
       "      <td>STK</td>\n",
       "      <td>False</td>\n",
       "      <td>America/New_York</td>\n",
       "      <td>MICROSOFT CORP</td>\n",
       "      <td>1</td>\n",
       "      <td>1</td>\n",
       "      <td>False</td>\n",
       "      <td>NaT</td>\n",
       "      <td>NaT</td>\n",
       "      <td>NaT</td>\n",
       "    </tr>\n",
       "  </tbody>\n",
       "</table>\n",
       "</div>"
      ],
      "text/plain": [
       "               Symbol Exchange Country Currency SecType    Etf  \\\n",
       "Sid                                                              \n",
       "FIBBG000B9XRY4   AAPL     XNAS      US      USD     STK  False   \n",
       "FIBBG000BFWKC0    MON     XNYS      US      USD     STK  False   \n",
       "FIBBG000BKZB36     HD     XNYS      US      USD     STK  False   \n",
       "FIBBG000BMHYD1    JNJ     XNYS      US      USD     STK  False   \n",
       "FIBBG000BPH459   MSFT     XNAS      US      USD     STK  False   \n",
       "\n",
       "                        Timezone               Name  PriceMagnifier  \\\n",
       "Sid                                                                   \n",
       "FIBBG000B9XRY4  America/New_York          APPLE INC               1   \n",
       "FIBBG000BFWKC0  America/New_York        MONSANTO CO               1   \n",
       "FIBBG000BKZB36  America/New_York     HOME DEPOT INC               1   \n",
       "FIBBG000BMHYD1  America/New_York  JOHNSON & JOHNSON               1   \n",
       "FIBBG000BPH459  America/New_York     MICROSOFT CORP               1   \n",
       "\n",
       "                Multiplier  Delisted DateDelisted LastTradeDate RolloverDate  \n",
       "Sid                                                                           \n",
       "FIBBG000B9XRY4           1     False          NaT           NaT          NaT  \n",
       "FIBBG000BFWKC0           1      True   2018-06-06           NaT          NaT  \n",
       "FIBBG000BKZB36           1     False          NaT           NaT          NaT  \n",
       "FIBBG000BMHYD1           1     False          NaT           NaT          NaT  \n",
       "FIBBG000BPH459           1     False          NaT           NaT          NaT  "
      ]
     },
     "execution_count": 32,
     "metadata": {},
     "output_type": "execute_result"
    }
   ],
   "source": [
    "#securities1 = get_securities(vendors=\"usstock\",sec_types=\"STK\")\n",
    "#securities1.head()"
   ]
  },
  {
   "cell_type": "code",
   "execution_count": 35,
   "id": "793b1902-95c1-4da6-bb1f-dd1b7f4b7e3b",
   "metadata": {
    "tags": []
   },
   "outputs": [
    {
     "data": {
      "text/plain": [
       "{'code': 'usstock-free1',\n",
       " 'provided': 8,\n",
       " 'inserted': 8,\n",
       " 'total_after_insert': 8}"
      ]
     },
     "execution_count": 35,
     "metadata": {},
     "output_type": "execute_result"
    }
   ],
   "source": [
    "#create_universe(\"usstock-free1\", sids=securities1.index.tolist())"
   ]
  },
  {
   "cell_type": "code",
   "execution_count": 36,
   "id": "c8a728ec-90f0-4eff-b950-3150884b620b",
   "metadata": {
    "tags": []
   },
   "outputs": [
    {
     "name": "stdout",
     "output_type": "stream",
     "text": [
      "Contents of universe 'usstock-free':\n",
      "               Symbol Exchange Country Currency SecType    Etf  \\\n",
      "Sid                                                              \n",
      "FIBBG000B9XRY4   AAPL     XNAS      US      USD     STK  False   \n",
      "FIBBG000BFWKC0    MON     XNYS      US      USD     STK  False   \n",
      "FIBBG000BKZB36     HD     XNYS      US      USD     STK  False   \n",
      "FIBBG000BMHYD1    JNJ     XNYS      US      USD     STK  False   \n",
      "FIBBG000BPH459   MSFT     XNAS      US      USD     STK  False   \n",
      "FIBBG000CK38G3    KKD     XNYS      US      USD     STK  False   \n",
      "FIBBG000GZQ728    XOM     XNYS      US      USD     STK  False   \n",
      "FIBBG00B3T3HD3     AA     XNYS      US      USD     STK  False   \n",
      "\n",
      "                        Timezone                        Name  PriceMagnifier  \\\n",
      "Sid                                                                            \n",
      "FIBBG000B9XRY4  America/New_York                   APPLE INC               1   \n",
      "FIBBG000BFWKC0  America/New_York                 MONSANTO CO               1   \n",
      "FIBBG000BKZB36  America/New_York              HOME DEPOT INC               1   \n",
      "FIBBG000BMHYD1  America/New_York           JOHNSON & JOHNSON               1   \n",
      "FIBBG000BPH459  America/New_York              MICROSOFT CORP               1   \n",
      "FIBBG000CK38G3  America/New_York  KRISPY KREME DOUGHNUTS INC               1   \n",
      "FIBBG000GZQ728  America/New_York            EXXON MOBIL CORP               1   \n",
      "FIBBG00B3T3HD3  America/New_York                  ALCOA CORP               1   \n",
      "\n",
      "                Multiplier  Delisted DateDelisted LastTradeDate RolloverDate  \n",
      "Sid                                                                           \n",
      "FIBBG000B9XRY4           1     False          NaT           NaT          NaT  \n",
      "FIBBG000BFWKC0           1      True   2018-06-06           NaT          NaT  \n",
      "FIBBG000BKZB36           1     False          NaT           NaT          NaT  \n",
      "FIBBG000BMHYD1           1     False          NaT           NaT          NaT  \n",
      "FIBBG000BPH459           1     False          NaT           NaT          NaT  \n",
      "FIBBG000CK38G3           1      True   2016-07-27           NaT          NaT  \n",
      "FIBBG000GZQ728           1     False          NaT           NaT          NaT  \n",
      "FIBBG00B3T3HD3           1     False          NaT           NaT          NaT  \n"
     ]
    }
   ],
   "source": [
    "#universe_securities = get_securities(universes=\"usstock-free1\")\n",
    "\n",
    "#Print the contents of the universe\n",
    "#print(\"Contents of universe 'usstock-free':\")\n",
    "#print(universe_securities)"
   ]
  },
  {
   "cell_type": "code",
   "execution_count": 28,
   "id": "40f62683-7682-484b-a832-9a99605df9b4",
   "metadata": {
    "tags": []
   },
   "outputs": [],
   "source": [
    "prices.reset_index(inplace=True)\n",
    " "
   ]
  },
  {
   "cell_type": "code",
   "execution_count": 29,
   "id": "c5c15923-894f-4486-babc-2bdc02d694d4",
   "metadata": {
    "tags": []
   },
   "outputs": [
    {
     "data": {
      "text/html": [
       "<div>\n",
       "<style scoped>\n",
       "    .dataframe tbody tr th:only-of-type {\n",
       "        vertical-align: middle;\n",
       "    }\n",
       "\n",
       "    .dataframe tbody tr th {\n",
       "        vertical-align: top;\n",
       "    }\n",
       "\n",
       "    .dataframe thead th {\n",
       "        text-align: right;\n",
       "    }\n",
       "</style>\n",
       "<table border=\"1\" class=\"dataframe\">\n",
       "  <thead>\n",
       "    <tr style=\"text-align: right;\">\n",
       "      <th>Sid</th>\n",
       "      <th>Field</th>\n",
       "      <th>Date</th>\n",
       "      <th>FIBBG000B9XRY4</th>\n",
       "    </tr>\n",
       "  </thead>\n",
       "  <tbody>\n",
       "    <tr>\n",
       "      <th>0</th>\n",
       "      <td>Close</td>\n",
       "      <td>2023-01-03</td>\n",
       "      <td>124.2163</td>\n",
       "    </tr>\n",
       "    <tr>\n",
       "      <th>1</th>\n",
       "      <td>Close</td>\n",
       "      <td>2023-01-04</td>\n",
       "      <td>125.4975</td>\n",
       "    </tr>\n",
       "    <tr>\n",
       "      <th>2</th>\n",
       "      <td>Close</td>\n",
       "      <td>2023-01-05</td>\n",
       "      <td>124.1666</td>\n",
       "    </tr>\n",
       "    <tr>\n",
       "      <th>3</th>\n",
       "      <td>Close</td>\n",
       "      <td>2023-01-06</td>\n",
       "      <td>128.7352</td>\n",
       "    </tr>\n",
       "    <tr>\n",
       "      <th>4</th>\n",
       "      <td>Close</td>\n",
       "      <td>2023-01-09</td>\n",
       "      <td>129.2616</td>\n",
       "    </tr>\n",
       "    <tr>\n",
       "      <th>...</th>\n",
       "      <td>...</td>\n",
       "      <td>...</td>\n",
       "      <td>...</td>\n",
       "    </tr>\n",
       "    <tr>\n",
       "      <th>245</th>\n",
       "      <td>Close</td>\n",
       "      <td>2023-12-22</td>\n",
       "      <td>193.3533</td>\n",
       "    </tr>\n",
       "    <tr>\n",
       "      <th>246</th>\n",
       "      <td>Close</td>\n",
       "      <td>2023-12-26</td>\n",
       "      <td>192.8040</td>\n",
       "    </tr>\n",
       "    <tr>\n",
       "      <th>247</th>\n",
       "      <td>Close</td>\n",
       "      <td>2023-12-27</td>\n",
       "      <td>192.9038</td>\n",
       "    </tr>\n",
       "    <tr>\n",
       "      <th>248</th>\n",
       "      <td>Close</td>\n",
       "      <td>2023-12-28</td>\n",
       "      <td>193.3333</td>\n",
       "    </tr>\n",
       "    <tr>\n",
       "      <th>249</th>\n",
       "      <td>Close</td>\n",
       "      <td>2023-12-29</td>\n",
       "      <td>192.2846</td>\n",
       "    </tr>\n",
       "  </tbody>\n",
       "</table>\n",
       "<p>250 rows × 3 columns</p>\n",
       "</div>"
      ],
      "text/plain": [
       "Sid  Field       Date  FIBBG000B9XRY4\n",
       "0    Close 2023-01-03        124.2163\n",
       "1    Close 2023-01-04        125.4975\n",
       "2    Close 2023-01-05        124.1666\n",
       "3    Close 2023-01-06        128.7352\n",
       "4    Close 2023-01-09        129.2616\n",
       "..     ...        ...             ...\n",
       "245  Close 2023-12-22        193.3533\n",
       "246  Close 2023-12-26        192.8040\n",
       "247  Close 2023-12-27        192.9038\n",
       "248  Close 2023-12-28        193.3333\n",
       "249  Close 2023-12-29        192.2846\n",
       "\n",
       "[250 rows x 3 columns]"
      ]
     },
     "execution_count": 29,
     "metadata": {},
     "output_type": "execute_result"
    }
   ],
   "source": [
    "prices"
   ]
  },
  {
   "cell_type": "code",
   "execution_count": 30,
   "id": "e3a82177-5bbd-429b-9b1d-2eddd9bbf9a6",
   "metadata": {
    "tags": []
   },
   "outputs": [
    {
     "data": {
      "text/plain": [
       "Index(['Field', 'Date', 'FIBBG000B9XRY4'], dtype='object', name='Sid')"
      ]
     },
     "execution_count": 30,
     "metadata": {},
     "output_type": "execute_result"
    }
   ],
   "source": [
    "prices.columns"
   ]
  },
  {
   "cell_type": "code",
   "execution_count": 31,
   "id": "bb91c63d-bcbd-422c-acc7-bda6a9d90fc4",
   "metadata": {
    "tags": []
   },
   "outputs": [],
   "source": [
    "prices.rename_axis(None, axis=1, inplace=True)"
   ]
  },
  {
   "cell_type": "code",
   "execution_count": 32,
   "id": "70adacd5-b1d2-4aad-9ee0-e2db3737b5bf",
   "metadata": {
    "tags": []
   },
   "outputs": [
    {
     "data": {
      "text/html": [
       "<div>\n",
       "<style scoped>\n",
       "    .dataframe tbody tr th:only-of-type {\n",
       "        vertical-align: middle;\n",
       "    }\n",
       "\n",
       "    .dataframe tbody tr th {\n",
       "        vertical-align: top;\n",
       "    }\n",
       "\n",
       "    .dataframe thead th {\n",
       "        text-align: right;\n",
       "    }\n",
       "</style>\n",
       "<table border=\"1\" class=\"dataframe\">\n",
       "  <thead>\n",
       "    <tr style=\"text-align: right;\">\n",
       "      <th></th>\n",
       "      <th>Field</th>\n",
       "      <th>Date</th>\n",
       "      <th>FIBBG000B9XRY4</th>\n",
       "    </tr>\n",
       "  </thead>\n",
       "  <tbody>\n",
       "    <tr>\n",
       "      <th>0</th>\n",
       "      <td>Close</td>\n",
       "      <td>2023-01-03</td>\n",
       "      <td>124.2163</td>\n",
       "    </tr>\n",
       "    <tr>\n",
       "      <th>1</th>\n",
       "      <td>Close</td>\n",
       "      <td>2023-01-04</td>\n",
       "      <td>125.4975</td>\n",
       "    </tr>\n",
       "    <tr>\n",
       "      <th>2</th>\n",
       "      <td>Close</td>\n",
       "      <td>2023-01-05</td>\n",
       "      <td>124.1666</td>\n",
       "    </tr>\n",
       "    <tr>\n",
       "      <th>3</th>\n",
       "      <td>Close</td>\n",
       "      <td>2023-01-06</td>\n",
       "      <td>128.7352</td>\n",
       "    </tr>\n",
       "    <tr>\n",
       "      <th>4</th>\n",
       "      <td>Close</td>\n",
       "      <td>2023-01-09</td>\n",
       "      <td>129.2616</td>\n",
       "    </tr>\n",
       "    <tr>\n",
       "      <th>...</th>\n",
       "      <td>...</td>\n",
       "      <td>...</td>\n",
       "      <td>...</td>\n",
       "    </tr>\n",
       "    <tr>\n",
       "      <th>245</th>\n",
       "      <td>Close</td>\n",
       "      <td>2023-12-22</td>\n",
       "      <td>193.3533</td>\n",
       "    </tr>\n",
       "    <tr>\n",
       "      <th>246</th>\n",
       "      <td>Close</td>\n",
       "      <td>2023-12-26</td>\n",
       "      <td>192.8040</td>\n",
       "    </tr>\n",
       "    <tr>\n",
       "      <th>247</th>\n",
       "      <td>Close</td>\n",
       "      <td>2023-12-27</td>\n",
       "      <td>192.9038</td>\n",
       "    </tr>\n",
       "    <tr>\n",
       "      <th>248</th>\n",
       "      <td>Close</td>\n",
       "      <td>2023-12-28</td>\n",
       "      <td>193.3333</td>\n",
       "    </tr>\n",
       "    <tr>\n",
       "      <th>249</th>\n",
       "      <td>Close</td>\n",
       "      <td>2023-12-29</td>\n",
       "      <td>192.2846</td>\n",
       "    </tr>\n",
       "  </tbody>\n",
       "</table>\n",
       "<p>250 rows × 3 columns</p>\n",
       "</div>"
      ],
      "text/plain": [
       "     Field       Date  FIBBG000B9XRY4\n",
       "0    Close 2023-01-03        124.2163\n",
       "1    Close 2023-01-04        125.4975\n",
       "2    Close 2023-01-05        124.1666\n",
       "3    Close 2023-01-06        128.7352\n",
       "4    Close 2023-01-09        129.2616\n",
       "..     ...        ...             ...\n",
       "245  Close 2023-12-22        193.3533\n",
       "246  Close 2023-12-26        192.8040\n",
       "247  Close 2023-12-27        192.9038\n",
       "248  Close 2023-12-28        193.3333\n",
       "249  Close 2023-12-29        192.2846\n",
       "\n",
       "[250 rows x 3 columns]"
      ]
     },
     "execution_count": 32,
     "metadata": {},
     "output_type": "execute_result"
    }
   ],
   "source": [
    "prices"
   ]
  },
  {
   "cell_type": "code",
   "execution_count": 33,
   "id": "f3d62c66-b138-48f8-9a63-de7eff82b519",
   "metadata": {
    "tags": []
   },
   "outputs": [],
   "source": [
    "prices['Daily_Return_PCT'] = prices['FIBBG000B9XRY4'].pct_change()"
   ]
  },
  {
   "cell_type": "code",
   "execution_count": 34,
   "id": "d89f2570-8e68-4d85-9884-9c11fa69f306",
   "metadata": {
    "tags": []
   },
   "outputs": [
    {
     "data": {
      "text/html": [
       "<div>\n",
       "<style scoped>\n",
       "    .dataframe tbody tr th:only-of-type {\n",
       "        vertical-align: middle;\n",
       "    }\n",
       "\n",
       "    .dataframe tbody tr th {\n",
       "        vertical-align: top;\n",
       "    }\n",
       "\n",
       "    .dataframe thead th {\n",
       "        text-align: right;\n",
       "    }\n",
       "</style>\n",
       "<table border=\"1\" class=\"dataframe\">\n",
       "  <thead>\n",
       "    <tr style=\"text-align: right;\">\n",
       "      <th></th>\n",
       "      <th>Field</th>\n",
       "      <th>Date</th>\n",
       "      <th>FIBBG000B9XRY4</th>\n",
       "      <th>Daily_Return_PCT</th>\n",
       "    </tr>\n",
       "  </thead>\n",
       "  <tbody>\n",
       "    <tr>\n",
       "      <th>0</th>\n",
       "      <td>Close</td>\n",
       "      <td>2023-01-03</td>\n",
       "      <td>124.2163</td>\n",
       "      <td>NaN</td>\n",
       "    </tr>\n",
       "    <tr>\n",
       "      <th>1</th>\n",
       "      <td>Close</td>\n",
       "      <td>2023-01-04</td>\n",
       "      <td>125.4975</td>\n",
       "      <td>0.010314</td>\n",
       "    </tr>\n",
       "    <tr>\n",
       "      <th>2</th>\n",
       "      <td>Close</td>\n",
       "      <td>2023-01-05</td>\n",
       "      <td>124.1666</td>\n",
       "      <td>-0.010605</td>\n",
       "    </tr>\n",
       "    <tr>\n",
       "      <th>3</th>\n",
       "      <td>Close</td>\n",
       "      <td>2023-01-06</td>\n",
       "      <td>128.7352</td>\n",
       "      <td>0.036794</td>\n",
       "    </tr>\n",
       "    <tr>\n",
       "      <th>4</th>\n",
       "      <td>Close</td>\n",
       "      <td>2023-01-09</td>\n",
       "      <td>129.2616</td>\n",
       "      <td>0.004089</td>\n",
       "    </tr>\n",
       "    <tr>\n",
       "      <th>...</th>\n",
       "      <td>...</td>\n",
       "      <td>...</td>\n",
       "      <td>...</td>\n",
       "      <td>...</td>\n",
       "    </tr>\n",
       "    <tr>\n",
       "      <th>245</th>\n",
       "      <td>Close</td>\n",
       "      <td>2023-12-22</td>\n",
       "      <td>193.3533</td>\n",
       "      <td>-0.005547</td>\n",
       "    </tr>\n",
       "    <tr>\n",
       "      <th>246</th>\n",
       "      <td>Close</td>\n",
       "      <td>2023-12-26</td>\n",
       "      <td>192.8040</td>\n",
       "      <td>-0.002841</td>\n",
       "    </tr>\n",
       "    <tr>\n",
       "      <th>247</th>\n",
       "      <td>Close</td>\n",
       "      <td>2023-12-27</td>\n",
       "      <td>192.9038</td>\n",
       "      <td>0.000518</td>\n",
       "    </tr>\n",
       "    <tr>\n",
       "      <th>248</th>\n",
       "      <td>Close</td>\n",
       "      <td>2023-12-28</td>\n",
       "      <td>193.3333</td>\n",
       "      <td>0.002226</td>\n",
       "    </tr>\n",
       "    <tr>\n",
       "      <th>249</th>\n",
       "      <td>Close</td>\n",
       "      <td>2023-12-29</td>\n",
       "      <td>192.2846</td>\n",
       "      <td>-0.005424</td>\n",
       "    </tr>\n",
       "  </tbody>\n",
       "</table>\n",
       "<p>250 rows × 4 columns</p>\n",
       "</div>"
      ],
      "text/plain": [
       "     Field       Date  FIBBG000B9XRY4  Daily_Return_PCT\n",
       "0    Close 2023-01-03        124.2163               NaN\n",
       "1    Close 2023-01-04        125.4975          0.010314\n",
       "2    Close 2023-01-05        124.1666         -0.010605\n",
       "3    Close 2023-01-06        128.7352          0.036794\n",
       "4    Close 2023-01-09        129.2616          0.004089\n",
       "..     ...        ...             ...               ...\n",
       "245  Close 2023-12-22        193.3533         -0.005547\n",
       "246  Close 2023-12-26        192.8040         -0.002841\n",
       "247  Close 2023-12-27        192.9038          0.000518\n",
       "248  Close 2023-12-28        193.3333          0.002226\n",
       "249  Close 2023-12-29        192.2846         -0.005424\n",
       "\n",
       "[250 rows x 4 columns]"
      ]
     },
     "execution_count": 34,
     "metadata": {},
     "output_type": "execute_result"
    }
   ],
   "source": [
    "prices"
   ]
  },
  {
   "cell_type": "code",
   "execution_count": 35,
   "id": "b052bef1-fb29-4239-9b44-85da75ac0c1d",
   "metadata": {
    "tags": []
   },
   "outputs": [
    {
     "data": {
      "image/png": "[encoded data removed]",
      "text/plain": [
       "<Figure size 864x432 with 1 Axes>"
      ]
     },
     "metadata": {},
     "output_type": "display_data"
    }
   ],
   "source": [
    "import matplotlib.pyplot as plt\n",
    "\n",
    "# Plot daily returns\n",
    "plt.figure(figsize=(12, 6))\n",
    "plt.plot(prices['Date'], prices['Daily_Return_PCT'], label='Daily Returns', color='blue')\n",
    "plt.title('Daily Returns Over Time')\n",
    "plt.xlabel('Date')\n",
    "plt.ylabel('Daily Returns')\n",
    "plt.legend()\n",
    "plt.show()\n",
    "\n"
   ]
  },
  {
   "cell_type": "code",
   "execution_count": 36,
   "id": "16b5775d-9887-4940-bdee-e624db54a9f2",
   "metadata": {
    "tags": []
   },
   "outputs": [
    {
     "data": {
      "image/png": "[encoded data removed]",
      "text/plain": [
       "<Figure size 864x432 with 1 Axes>"
      ]
     },
     "metadata": {},
     "output_type": "display_data"
    }
   ],
   "source": [
    "# Plot closing prices\n",
    "plt.figure(figsize=(12, 6))\n",
    "plt.plot(prices['Date'], prices['FIBBG000B9XRY4'], label='Closing Price', color='green')\n",
    "plt.title('Closing Prices Over Time')\n",
    "plt.xlabel('Date')\n",
    "plt.ylabel('Closing Price')\n",
    "plt.legend()\n",
    "plt.show()\n"
   ]
  },
  {
   "cell_type": "code",
   "execution_count": 134,
   "id": "15ae724b-0cad-4fef-9a51-9befc5f5ea92",
   "metadata": {
    "tags": []
   },
   "outputs": [
    {
     "name": "stdout",
     "output_type": "stream",
     "text": [
      "['-1', '1', '-1', '1', '0', '0', '1', '0', '1', '0', '0', '0', '1', '1', '1', '0', '1', '1', '-1', '0', '0', '1', '1', '-1', '1', '-1', '0', '0', '1', '0', '1', '-1', '0', '-1', '0', '0', '-1', '0', '0', '-1', '0', '1', '1', '-1', '0', '-1', '-1', '1', '1', '0', '1', '0', '1', '1', '0', '0', '0', '-1', '0', '1', '0', '1', '0', '0', '-1', '0', '-1', '0', '0', '1', '0', '0', '0', '0', '0', '0', '0', '0', '0', '1', '0', '0', '0', '0', '0', '1', '0', '0', '1', '0', '0', '0', '0', '0', '1', '0', '0', '-1', '0', '0', '1', '1', '0', '1', '0', '0', '0', '0', '1', '0', '1', '0', '0', '1', '0', '0', '0', '1', '0', '0', '1', '0', '0', '1', '0', '0', '0', '0', '-1', '0', '0', '0', '0', '1', '0', '0', '-1', '0', '0', '0', '0', '0', '1', '0', '0', '-1', '0', '-1', '-1', '0', '0', '0', '0', '0', '-1', '0', '-1', '0', '0', '0', '1', '-1', '1', '0', '1', '1', '0', '0', '0', '-1', '-1', '0', '0', '-1', '-1', '0', '0', '1', '0', '-1', '0', '0', '0', '-1', '0', '0', '0', '1', '0', '0', '0', '1', '0', '0', '0', '0', '-1', '0', '0', '0', '0', '-1', '0', '0', '-1', '-1', '0', '1', '0', '1', '1', '0', '1', '1', '0', '0', '1', '0', '1', '0', '0', '0', '0', '0', '0', '0', '0', '0', '0', '0', '0', '0', '1', '0', '1', '0', '-1', '0', '1', '0', '0', '0', '0', '-1', '0', '0', '0', '0', '0', '0']\n"
     ]
    }
   ],
   "source": [
    "state=[]\n",
    "for i in prices['Daily_Return_PCT']:\n",
    "      if i >= 0.01:          \n",
    "            state.append('1')           \n",
    "      elif i > -0.01:            \n",
    "            state.append('0')           \n",
    "      else:             \n",
    "            state.append('-1')\n",
    "print(state)"
   ]
  },
  {
   "cell_type": "code",
   "execution_count": 135,
   "id": "1833369c-faeb-408f-a346-88a10f225ab6",
   "metadata": {
    "tags": []
   },
   "outputs": [],
   "source": [
    "# Initialize portfolio value\n",
    "V = 0\n",
    "\n",
    "# Initialize list to store portfolio values\n",
    "portfolio_values = []\n",
    "\n",
    "# Iterate over the states and calculate portfolio value accordingly\n",
    "for i in range(len(state) - 1):\n",
    "    if state[i+1] == '1' and state[i] == '0':\n",
    "        V += 1\n",
    "    elif state[i+1] == '-1' and state[i] == '0':\n",
    "        V -= 1\n",
    "    # Append the portfolio value after each iteration\n",
    "    portfolio_values.append(V)\n",
    "\n",
    "# Append the final portfolio value after all iterations\n",
    "portfolio_values.append(V)\n"
   ]
  },
  {
   "cell_type": "code",
   "execution_count": 44,
   "id": "7bf53fbc-fcd6-49d6-9460-ea119aee9150",
   "metadata": {
    "tags": []
   },
   "outputs": [
    {
     "data": {
      "image/png": "[encoded data removed]",
      "text/plain": [
       "<Figure size 1152x432 with 1 Axes>"
      ]
     },
     "metadata": {},
     "output_type": "display_data"
    }
   ],
   "source": [
    "import numpy as np\n",
    "import matplotlib.pyplot as plt\n",
    "\n",
    "# Calculate the frequency of each unique portfolio value\n",
    "unique_values, counts = np.unique(portfolio_values, return_counts=True)\n",
    "\n",
    "# Calculate the total number of observations\n",
    "total_observations = len(portfolio_values)\n",
    "\n",
    "# Calculate the probability of each portfolio value\n",
    "probabilities = counts / total_observations\n",
    "\n",
    "# Plot the probability distribution\n",
    "plt.bar(unique_values, probabilities)\n",
    "plt.xlabel('Portfolio Value')\n",
    "plt.ylabel('Probability')\n",
    "plt.title('Probability Distribution of Portfolio Values')\n",
    "plt.show()\n"
   ]
  },
  {
   "cell_type": "code",
   "execution_count": 46,
   "id": "6b4e2f86-0635-47de-a6bd-0c1c3a542208",
   "metadata": {
    "tags": []
   },
   "outputs": [
    {
     "data": {
      "image/png": "[encoded data removed]",
      "text/plain": [
       "<Figure size 1152x432 with 1 Axes>"
      ]
     },
     "metadata": {},
     "output_type": "display_data"
    }
   ],
   "source": [
    "import seaborn as sns\n",
    "import matplotlib.pyplot as plt\n",
    "\n",
    "# Plot the bar plot of the state distribution\n",
    "sns.countplot(x=state)\n",
    "plt.xlabel('State')\n",
    "plt.ylabel('Count')\n",
    "plt.title('Distribution of States')\n",
    "plt.show()\n"
   ]
  },
  {
   "cell_type": "code",
   "execution_count": 138,
   "id": "fdd9462d-44c2-42c8-8dd1-fc8b0c8cee11",
   "metadata": {},
   "outputs": [
    {
     "name": "stdout",
     "output_type": "stream",
     "text": [
      "Performing stepwise search to minimize aic\n",
      " ARIMA(0,1,0)(0,0,0)[0] intercept   : AIC=1082.505, Time=0.17 sec\n",
      " ARIMA(1,1,0)(0,0,0)[0] intercept   : AIC=1083.578, Time=0.10 sec\n",
      " ARIMA(0,1,1)(0,0,0)[0] intercept   : AIC=1083.538, Time=0.14 sec\n",
      " ARIMA(0,1,0)(0,0,0)[0]             : AIC=1084.650, Time=0.07 sec\n",
      " ARIMA(1,1,1)(0,0,0)[0] intercept   : AIC=1084.966, Time=0.14 sec\n",
      "\n",
      "Best model:  ARIMA(0,1,0)(0,0,0)[0] intercept\n",
      "Total fit time: 0.871 seconds\n",
      "                               SARIMAX Results                                \n",
      "==============================================================================\n",
      "Dep. Variable:                      y   No. Observations:                  250\n",
      "Model:               SARIMAX(0, 1, 0)   Log Likelihood                -539.253\n",
      "Date:                Tue, 12 Mar 2024   AIC                           1082.505\n",
      "Time:                        16:34:28   BIC                           1089.540\n",
      "Sample:                    01-03-2023   HQIC                          1085.337\n",
      "                         - 09-09-2023                                         \n",
      "Covariance Type:                  opg                                         \n",
      "==============================================================================\n",
      "                 coef    std err          z      P>|z|      [0.025      0.975]\n",
      "------------------------------------------------------------------------------\n",
      "intercept      0.2734      0.135      2.026      0.043       0.009       0.538\n",
      "sigma2         4.4525      0.294     15.164      0.000       3.877       5.028\n",
      "===================================================================================\n",
      "Ljung-Box (L1) (Q):                   0.94   Jarque-Bera (JB):                34.81\n",
      "Prob(Q):                              0.33   Prob(JB):                         0.00\n",
      "Heteroskedasticity (H):               0.98   Skew:                            -0.26\n",
      "Prob(H) (two-sided):                  0.94   Kurtosis:                         4.76\n",
      "===================================================================================\n",
      "\n",
      "Warnings:\n",
      "[1] Covariance matrix calculated using the outer product of gradients (complex-step).\n"
     ]
    },
    {
     "data": {
      "image/png": "[encoded data removed]",
      "text/plain": [
       "<Figure size 1080x576 with 4 Axes>"
      ]
     },
     "metadata": {},
     "output_type": "display_data"
    }
   ],
   "source": [
    "# Assuming 'train_data' is your DataFrame containing the date index\n",
    "train_data=prices['FIBBG000B9XRY4']\n",
    "train_data.index = pd.date_range(start=train_data.index.min(), periods=len(train_data), freq='D')\n",
    "\n",
    "# Perform auto ARIMA model selection\n",
    "model_autoARIMA = auto_arima(train_data, start_p=0, start_q=0,\n",
    "                              test='adf',       # use adftest to find optimal 'd'\n",
    "                              max_p=3, max_q=3, # maximum p and q\n",
    "                              m=1,              # frequency of series\n",
    "                              d=None,           # let model determine 'd'\n",
    "                              seasonal=False,   # No Seasonality\n",
    "                              start_P=0, \n",
    "                              D=0, \n",
    "                              trace=True,\n",
    "                              error_action='ignore',  \n",
    "                              suppress_warnings=True, \n",
    "                              stepwise=True)\n",
    "\n",
    "# Print the summary of the auto ARIMA model\n",
    "print(model_autoARIMA.summary())\n",
    "\n",
    "# Plot diagnostics of the auto ARIMA model\n",
    "model_autoARIMA.plot_diagnostics(figsize=(15, 8))\n",
    "plt.show()\n"
   ]
  },
  {
   "cell_type": "code",
   "execution_count": 139,
   "id": "8cba1b4b-f1ec-4557-9543-55d036b9bbcb",
   "metadata": {
    "tags": []
   },
   "outputs": [
    {
     "name": "stdout",
     "output_type": "stream",
     "text": [
      "                               SARIMAX Results                                \n",
      "==============================================================================\n",
      "Dep. Variable:         FIBBG000B9XRY4   No. Observations:                  250\n",
      "Model:                 ARIMA(0, 1, 0)   Log Likelihood                -541.325\n",
      "Date:                Tue, 12 Mar 2024   AIC                           1084.650\n",
      "Time:                        16:35:10   BIC                           1088.167\n",
      "Sample:                    01-03-2023   HQIC                          1086.066\n",
      "                         - 09-09-2023                                         \n",
      "Covariance Type:                  opg                                         \n",
      "==============================================================================\n",
      "                 coef    std err          z      P>|z|      [0.025      0.975]\n",
      "------------------------------------------------------------------------------\n",
      "sigma2         4.5272      0.304     14.914      0.000       3.932       5.122\n",
      "===================================================================================\n",
      "Ljung-Box (L1) (Q):                   0.94   Jarque-Bera (JB):                34.81\n",
      "Prob(Q):                              0.33   Prob(JB):                         0.00\n",
      "Heteroskedasticity (H):               0.93   Skew:                            -0.26\n",
      "Prob(H) (two-sided):                  0.74   Kurtosis:                         4.76\n",
      "===================================================================================\n",
      "\n",
      "Warnings:\n",
      "[1] Covariance matrix calculated using the outer product of gradients (complex-step).\n"
     ]
    }
   ],
   "source": [
    "model = ARIMA(train_data, order=(0,1,0))  \n",
    "fitted = model.fit()  \n",
    "print(fitted.summary()) "
   ]
  },
  {
   "cell_type": "code",
   "execution_count": 140,
   "id": "10dd9a61-4924-4d43-8c62-e5d7b628c4bc",
   "metadata": {
    "tags": []
   },
   "outputs": [
    {
     "name": "stdout",
     "output_type": "stream",
     "text": [
      "Forecasted values for the next 20 days:\n",
      "         Date  Forecast\n",
      "0  2024-01-01  192.2846\n",
      "1  2024-01-02  192.2846\n",
      "2  2024-01-03  192.2846\n",
      "3  2024-01-04  192.2846\n",
      "4  2024-01-05  192.2846\n",
      "5  2024-01-06  192.2846\n",
      "6  2024-01-07  192.2846\n",
      "7  2024-01-08  192.2846\n",
      "8  2024-01-09  192.2846\n",
      "9  2024-01-10  192.2846\n",
      "10 2024-01-11  192.2846\n",
      "11 2024-01-12  192.2846\n",
      "12 2024-01-13  192.2846\n",
      "13 2024-01-14  192.2846\n",
      "14 2024-01-15  192.2846\n",
      "15 2024-01-16  192.2846\n",
      "16 2024-01-17  192.2846\n",
      "17 2024-01-18  192.2846\n",
      "18 2024-01-19  192.2846\n",
      "19 2024-01-20  192.2846\n"
     ]
    }
   ],
   "source": [
    "import pandas as pd\n",
    "\n",
    "# Define the start date\n",
    "start_date = '2024-01-01'\n",
    "\n",
    "# Create a date range for the next 20 days starting from the start date\n",
    "forecast_dates = pd.date_range(start=start_date, periods=forecast_steps)\n",
    "\n",
    "# Combine the forecasted values with the forecast dates\n",
    "forecast_df = pd.DataFrame({'Date': forecast_dates, 'Forecast': forecast})\n",
    "\n",
    "# Print the forecasted values with dates\n",
    "print(\"Forecasted values for the next 20 days:\")\n",
    "print(forecast_df)\n"
   ]
  },
  {
   "cell_type": "code",
   "execution_count": null,
   "id": "ef356e7a-064b-4972-be45-569f260a55ab",
   "metadata": {},
   "outputs": [],
   "source": []
  }
 ],
 "metadata": {
  "kernelspec": {
   "display_name": "Python 3.9",
   "language": "python",
   "name": "python3"
  },
  "language_info": {
   "codemirror_mode": {
    "name": "ipython",
    "version": 3
   },
   "file_extension": ".py",
   "mimetype": "text/x-python",
   "name": "python",
   "nbconvert_exporter": "python",
   "pygments_lexer": "ipython3",
   "version": "3.9.12"
  }
 },
 "nbformat": 4,
 "nbformat_minor": 5
}
